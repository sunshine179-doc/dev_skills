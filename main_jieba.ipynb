{
 "cells": [
  {
   "cell_type": "markdown",
   "id": "635709c9",
   "metadata": {},
   "source": [
    "# 结巴分词实践\n",
    "## 结巴分词的三种模式\n",
    "### 全模式\n",
    "    "
   ]
  },
  {
   "cell_type": "code",
   "execution_count": 14,
   "id": "6cfefe2a",
   "metadata": {
    "scrolled": true
   },
   "outputs": [
    {
     "name": "stdout",
     "output_type": "stream",
     "text": [
      "Full Mode: 我/来到/北京/清华/清华大学/华大/大学\n"
     ]
    }
   ],
   "source": [
    "import jieba\n",
    "seg_list = jieba.cut(\"我来到北京清华大学\",cut_all=True)\n",
    "print(\"Full Mode: \" + \"/\".join(seg_list))"
   ]
  },
  {
   "cell_type": "markdown",
   "id": "1e363367",
   "metadata": {},
   "source": [
    "\n",
    " ### 精确模式"
   ]
  },
  {
   "cell_type": "code",
   "execution_count": 17,
   "id": "823f4cb9",
   "metadata": {},
   "outputs": [
    {
     "name": "stdout",
     "output_type": "stream",
     "text": [
      "Default Mode: 我/来到/北京/清华大学\n"
     ]
    }
   ],
   "source": [
    "seg_list = jieba.cut(\"我来到北京清华大学\", cut_all=False)\n",
    "print(\"Default Mode: \" + \"/\".join(seg_list)) "
   ]
  },
  {
   "cell_type": "markdown",
   "id": "90c7f309",
   "metadata": {},
   "source": [
    "### 搜索引擎模式\n"
   ]
  },
  {
   "cell_type": "code",
   "execution_count": 20,
   "id": "19ab365f",
   "metadata": {},
   "outputs": [
    {
     "name": "stdout",
     "output_type": "stream",
     "text": [
      "小明，硕士，毕业，于，中国，科学，学院，科学院，中国科学院，计算，计算所，，，后，在，日本，京都，大学，日本京都大学，深造\n"
     ]
    }
   ],
   "source": [
    "seg_list = jieba.cut_for_search (\"小明硕士毕业于中国科学院计算所，后在日本京都大学深造\")    \n",
    "print(\"，\".join(seg_list))"
   ]
  },
  {
   "cell_type": "markdown",
   "id": "db728eef",
   "metadata": {},
   "source": [
    "### 载入词典"
   ]
  },
  {
   "cell_type": "code",
   "execution_count": 25,
   "id": "b732f3d6",
   "metadata": {},
   "outputs": [
    {
     "name": "stdout",
     "output_type": "stream",
     "text": [
      "Default Mode: 王玉琦/即将/是/自然语言处理/方面/的/高/手\n"
     ]
    }
   ],
   "source": [
    "jieba.load_userdict(\"userdict.txt\")\n",
    "seg_list = jieba.cut(\"王玉琦即将是自然语言处理方面的高手\", cut_all=False, HMM=False)\n",
    "print(\"Default Mode: \" + \"/\".join(seg_list))"
   ]
  },
  {
   "cell_type": "markdown",
   "id": "eb723a34",
   "metadata": {},
   "source": [
    "### 关键词提取实践"
   ]
  },
  {
   "cell_type": "code",
   "execution_count": 9,
   "id": "b3cdfa4f",
   "metadata": {},
   "outputs": [
    {
     "name": "stdout",
     "output_type": "stream",
     "text": [
      "重点 1.0\n",
      "大学 0.9635631335578456\n",
      "国家 0.9273412563201143\n",
      "河北省 0.6235965850264276\n",
      "共建 0.5433775103953393\n",
      "全国 0.534102824188907\n",
      "信息化 0.523517756070117\n",
      "北京 0.5018327550761613\n",
      "一流 0.49871940909528095\n",
      "高校 0.4981734275744847\n",
      "支持 0.4341118682412674\n",
      "教育部 0.4010473038202727\n",
      "工业 0.39979771882365184\n",
      "世界 0.38446716337538744\n",
      "工业局 0.3566868934650074\n",
      "成员 0.2684723522599455\n",
      "['重点', '大学', '国家', '河北省', '共建']\n"
     ]
    }
   ],
   "source": [
    "import jieba.analyse\n",
    "s = \"燕山大学是河北省人民政府、教育部、工业和信息化部、国家国防科技工业局四方共建的全国重点大学，河北省重点支持的国家一流大学和世界一流学科建设高校，北京高科大学联盟成员。\"\n",
    "for x, w in jieba.analyse.textrank(s, withWeight=True):\n",
    "    print('%s %s' % (x, w))\n",
    "    \n",
    "seg_list = jieba.analyse.textrank(s, topK=5, withWeight=False, allowPOS=('ns', 'n', 'vn', 'v')) \n",
    "print(seg_list)"
   ]
  },
  {
   "cell_type": "code",
   "execution_count": null,
   "id": "5c256575",
   "metadata": {},
   "outputs": [],
   "source": []
  }
 ],
 "metadata": {
  "kernelspec": {
   "display_name": "Python 3 (ipykernel)",
   "language": "python",
   "name": "python3"
  },
  "language_info": {
   "codemirror_mode": {
    "name": "ipython",
    "version": 3
   },
   "file_extension": ".py",
   "mimetype": "text/x-python",
   "name": "python",
   "nbconvert_exporter": "python",
   "pygments_lexer": "ipython3",
   "version": "3.12.2"
  }
 },
 "nbformat": 4,
 "nbformat_minor": 5
}
